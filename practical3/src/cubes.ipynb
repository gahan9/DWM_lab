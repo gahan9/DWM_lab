{
 "cells": [
  {
   "cell_type": "markdown",
   "metadata": {},
   "source": [
    "# Cubes\n",
    "\n",
    "> Purpose is to provide a **framework** for giving analyst or any application end-user understandable and natural way of reporting using `concept of data Cubes` – multidimensional data objects.\n",
    "\n",
    "This directory contains following files:\n",
    "\n",
    "* `model.json`       - logical model\n",
    "    - Logical model describes the data from user’s or analyst’s perspective: data how they are being measured, aggregated and reported.\n",
    "    - Model is independent of physical implementation of data. \n",
    "    - This physical independence makes it easier to focus on data instead on ways of how to get the data in understandable form.\n",
    "* `slicer.ini`       - server configuration file\n",
    "* `BlackFriday.csv`  - source data\n",
    "* `prepare_data.py`  - script for preparing the data: load them into database and create a view\n",
    "\n",
    "---\n",
    "The dimension provides context for facts. Is used to:\n",
    "- Filter Queries\n",
    "- controls scope of aggregation of facts\n",
    "---\n",
    "\n",
    "\n",
    "References\n",
    "----------\n",
    "- https://pythonhosted.org/cubes/server.html\n",
    "- https://apandre.wordpress.com/data/datacube/\n",
    "- https://cubes.readthedocs.io/en/v1.0.1/introduction.html"
   ]
  },
  {
   "cell_type": "code",
   "execution_count": 129,
   "metadata": {},
   "outputs": [],
   "source": [
    "import cubes\n",
    "import pandas as pd"
   ]
  },
  {
   "cell_type": "code",
   "execution_count": 132,
   "metadata": {},
   "outputs": [
    {
     "data": {
      "text/html": [
       "<div>\n",
       "<style scoped>\n",
       "    .dataframe tbody tr th:only-of-type {\n",
       "        vertical-align: middle;\n",
       "    }\n",
       "\n",
       "    .dataframe tbody tr th {\n",
       "        vertical-align: top;\n",
       "    }\n",
       "\n",
       "    .dataframe thead th {\n",
       "        text-align: right;\n",
       "    }\n",
       "</style>\n",
       "<table border=\"1\" class=\"dataframe\">\n",
       "  <thead>\n",
       "    <tr style=\"text-align: right;\">\n",
       "      <th></th>\n",
       "      <th>Age</th>\n",
       "      <th>Occupation</th>\n",
       "      <th>Product_Category</th>\n",
       "      <th>Purchase</th>\n",
       "    </tr>\n",
       "  </thead>\n",
       "  <tbody>\n",
       "    <tr>\n",
       "      <th>0</th>\n",
       "      <td>0-17</td>\n",
       "      <td>10</td>\n",
       "      <td>3</td>\n",
       "      <td>8370</td>\n",
       "    </tr>\n",
       "    <tr>\n",
       "      <th>1</th>\n",
       "      <td>0-17</td>\n",
       "      <td>10</td>\n",
       "      <td>1</td>\n",
       "      <td>15200</td>\n",
       "    </tr>\n",
       "    <tr>\n",
       "      <th>2</th>\n",
       "      <td>0-17</td>\n",
       "      <td>10</td>\n",
       "      <td>12</td>\n",
       "      <td>1422</td>\n",
       "    </tr>\n",
       "    <tr>\n",
       "      <th>3</th>\n",
       "      <td>0-17</td>\n",
       "      <td>10</td>\n",
       "      <td>12</td>\n",
       "      <td>1057</td>\n",
       "    </tr>\n",
       "    <tr>\n",
       "      <th>4</th>\n",
       "      <td>55+</td>\n",
       "      <td>16</td>\n",
       "      <td>8</td>\n",
       "      <td>7969</td>\n",
       "    </tr>\n",
       "  </tbody>\n",
       "</table>\n",
       "</div>"
      ],
      "text/plain": [
       "    Age  Occupation  Product_Category  Purchase\n",
       "0  0-17          10                 3      8370\n",
       "1  0-17          10                 1     15200\n",
       "2  0-17          10                12      1422\n",
       "3  0-17          10                12      1057\n",
       "4   55+          16                 8      7969"
      ]
     },
     "execution_count": 132,
     "metadata": {},
     "output_type": "execute_result"
    }
   ],
   "source": [
    "df = pd.read_csv(\"BlackFriday.csv\")\n",
    "df.head(5)"
   ]
  },
  {
   "cell_type": "markdown",
   "metadata": {},
   "source": [
    "# Describing Data Cube\n",
    "\n",
    "## Dimension \n",
    "- `Age` - Discritisized\n",
    "- `Occupation` - Nominal attribute (represented as integer)\n",
    "- `Product_Category` - Nominal attribute (represented as integer)\n",
    "\n",
    "## Measure\n",
    "- `Purchase` - purchase amount (number)\n",
    "\n",
    "![Cube](DataCube.jpg)\n",
    "\n",
    "![overview](https://cubes.readthedocs.io/en/v1.0.1/_images/cubes-analytical-workspace-overview1.png)"
   ]
  },
  {
   "cell_type": "code",
   "execution_count": 121,
   "metadata": {},
   "outputs": [],
   "source": [
    "def pretty_print(browser, dimension, **kwargs):\n",
    "    cell = kwargs.get('cell', None)\n",
    "    count = 0\n",
    "    if cell:\n",
    "        for row in browser.aggregate(cell, drilldown=[dimension]).table_rows(dimension):\n",
    "            print(\"{:>8s} >>> {}\".format(row.label, row.record))\n",
    "            count += 1\n",
    "    else:\n",
    "        for row in browser.aggregate(drilldown=[dimension]).table_rows(dimension):\n",
    "            print(\"{:>8s} >>> {}\".format(row.label, row.record))\n",
    "            count += 1\n",
    "    print(\"{}\\nTotal slices in dimension: {} are {}\".format(\"=\"*50, dimension, count))"
   ]
  },
  {
   "cell_type": "code",
   "execution_count": 122,
   "metadata": {},
   "outputs": [],
   "source": [
    "workspace = cubes.Workspace()\n",
    "workspace.register_default_store(\"sql\", url=\"sqlite:///data.sqlite\")\n",
    "workspace.import_model(\"model.json\")"
   ]
  },
  {
   "cell_type": "markdown",
   "metadata": {},
   "source": [
    "### Browser\n",
    "Core of the Cubes analytics functionality is the aggregation browser. \n",
    "\n",
    "The browser module contains utility classes and functions for the browser to work."
   ]
  },
  {
   "cell_type": "code",
   "execution_count": 123,
   "metadata": {},
   "outputs": [],
   "source": [
    "browser = workspace.browser('black_friday')"
   ]
  },
  {
   "cell_type": "code",
   "execution_count": 124,
   "metadata": {},
   "outputs": [
    {
     "name": "stdout",
     "output_type": "stream",
     "text": [
      "    0-17 >>> {'Purchase_sum': 302980, 'record_count': 29, 'Age': '0-17'}\n",
      "   18-25 >>> {'Purchase_sum': 880881, 'record_count': 94, 'Age': '18-25'}\n",
      "   26-35 >>> {'Purchase_sum': 1756847, 'record_count': 181, 'Age': '26-35'}\n",
      "   36-45 >>> {'Purchase_sum': 843641, 'record_count': 77, 'Age': '36-45'}\n",
      "   46-50 >>> {'Purchase_sum': 509699, 'record_count': 66, 'Age': '46-50'}\n",
      "   51-55 >>> {'Purchase_sum': 205344, 'record_count': 29, 'Age': '51-55'}\n",
      "     55+ >>> {'Purchase_sum': 174551, 'record_count': 24, 'Age': '55+'}\n",
      "==================================================\n",
      "Total slices in dimension: Age are 7\n"
     ]
    }
   ],
   "source": [
    "pretty_print(browser, dimension=\"Age\")"
   ]
  },
  {
   "cell_type": "code",
   "execution_count": 125,
   "metadata": {},
   "outputs": [
    {
     "name": "stdout",
     "output_type": "stream",
     "text": [
      "       0 >>> {'Purchase_sum': 654409, 'record_count': 60, 'Occupation': '0'}\n",
      "       1 >>> {'Purchase_sum': 645130, 'record_count': 76, 'Occupation': '1'}\n",
      "      10 >>> {'Purchase_sum': 302980, 'record_count': 29, 'Occupation': '10'}\n",
      "      11 >>> {'Purchase_sum': 58665, 'record_count': 5, 'Occupation': '11'}\n",
      "      12 >>> {'Purchase_sum': 262402, 'record_count': 21, 'Occupation': '12'}\n",
      "      13 >>> {'Purchase_sum': 100218, 'record_count': 14, 'Occupation': '13'}\n",
      "      14 >>> {'Purchase_sum': 72459, 'record_count': 9, 'Occupation': '14'}\n",
      "      15 >>> {'Purchase_sum': 131481, 'record_count': 15, 'Occupation': '15'}\n",
      "      16 >>> {'Purchase_sum': 52767, 'record_count': 12, 'Occupation': '16'}\n",
      "      17 >>> {'Purchase_sum': 179909, 'record_count': 20, 'Occupation': '17'}\n",
      "      18 >>> {'Purchase_sum': 8652, 'record_count': 1, 'Occupation': '18'}\n",
      "      19 >>> {'Purchase_sum': 40856, 'record_count': 7, 'Occupation': '19'}\n",
      "       2 >>> {'Purchase_sum': 216111, 'record_count': 20, 'Occupation': '2'}\n",
      "      20 >>> {'Purchase_sum': 68016, 'record_count': 9, 'Occupation': '20'}\n",
      "       3 >>> {'Purchase_sum': 694842, 'record_count': 68, 'Occupation': '3'}\n",
      "       4 >>> {'Purchase_sum': 613254, 'record_count': 67, 'Occupation': '4'}\n",
      "       5 >>> {'Purchase_sum': 25737, 'record_count': 3, 'Occupation': '5'}\n",
      "       7 >>> {'Purchase_sum': 406319, 'record_count': 47, 'Occupation': '7'}\n",
      "       8 >>> {'Purchase_sum': 91788, 'record_count': 10, 'Occupation': '8'}\n",
      "       9 >>> {'Purchase_sum': 47948, 'record_count': 7, 'Occupation': '9'}\n",
      "==================================================\n",
      "Total slices in dimension: Occupation are 20\n"
     ]
    }
   ],
   "source": [
    "pretty_print(browser, dimension=\"Occupation\")"
   ]
  },
  {
   "cell_type": "code",
   "execution_count": 126,
   "metadata": {},
   "outputs": [
    {
     "name": "stdout",
     "output_type": "stream",
     "text": [
      "       1 >>> {'Purchase_sum': 1885384, 'record_count': 134, 'Product_Category': '1'}\n",
      "      10 >>> {'Purchase_sum': 47395, 'record_count': 2, 'Product_Category': '10'}\n",
      "      11 >>> {'Purchase_sum': 62458, 'record_count': 13, 'Product_Category': '11'}\n",
      "      12 >>> {'Purchase_sum': 10181, 'record_count': 7, 'Product_Category': '12'}\n",
      "      13 >>> {'Purchase_sum': 2084, 'record_count': 3, 'Product_Category': '13'}\n",
      "      14 >>> {'Purchase_sum': 23551, 'record_count': 3, 'Product_Category': '14'}\n",
      "      15 >>> {'Purchase_sum': 51850, 'record_count': 4, 'Product_Category': '15'}\n",
      "      16 >>> {'Purchase_sum': 104010, 'record_count': 6, 'Product_Category': '16'}\n",
      "      18 >>> {'Purchase_sum': 3794, 'record_count': 1, 'Product_Category': '18'}\n",
      "       2 >>> {'Purchase_sum': 240144, 'record_count': 18, 'Product_Category': '2'}\n",
      "       3 >>> {'Purchase_sum': 289368, 'record_count': 27, 'Product_Category': '3'}\n",
      "       4 >>> {'Purchase_sum': 26976, 'record_count': 13, 'Product_Category': '4'}\n",
      "       5 >>> {'Purchase_sum': 847033, 'record_count': 137, 'Product_Category': '5'}\n",
      "       6 >>> {'Purchase_sum': 245555, 'record_count': 16, 'Product_Category': '6'}\n",
      "       7 >>> {'Purchase_sum': 25064, 'record_count': 2, 'Product_Category': '7'}\n",
      "       8 >>> {'Purchase_sum': 809096, 'record_count': 114, 'Product_Category': '8'}\n",
      "==================================================\n",
      "Total slices in dimension: Product_Category are 16\n"
     ]
    }
   ],
   "source": [
    "pretty_print(browser, dimension=\"Product_Category\")"
   ]
  },
  {
   "cell_type": "code",
   "execution_count": null,
   "metadata": {},
   "outputs": [],
   "source": []
  },
  {
   "cell_type": "code",
   "execution_count": null,
   "metadata": {},
   "outputs": [],
   "source": []
  },
  {
   "cell_type": "code",
   "execution_count": 100,
   "metadata": {},
   "outputs": [],
   "source": [
    "# Aggregations"
   ]
  },
  {
   "cell_type": "code",
   "execution_count": 115,
   "metadata": {},
   "outputs": [
    {
     "data": {
      "text/plain": [
       "{'Purchase_sum': 4673943, 'record_count': 500}"
      ]
     },
     "execution_count": 115,
     "metadata": {},
     "output_type": "execute_result"
    }
   ],
   "source": [
    "result = browser.aggregate()\n",
    "result.summary"
   ]
  },
  {
   "cell_type": "code",
   "execution_count": 145,
   "metadata": {},
   "outputs": [
    {
     "data": {
      "text/plain": [
       "{'Purchase_sum': 302980, 'record_count': 29}"
      ]
     },
     "execution_count": 145,
     "metadata": {},
     "output_type": "execute_result"
    }
   ],
   "source": [
    "cuts = [\n",
    "    cubes.PointCut(\"Age\", [\"0-17\"]),\n",
    "    cubes.PointCut(\"Occupation\", [\"10\"])\n",
    "]\n",
    "cell = cubes.Cell(browser.cube, cuts)\n",
    "result = browser.aggregate(cell)\n",
    "result.summary"
   ]
  },
  {
   "cell_type": "code",
   "execution_count": null,
   "metadata": {},
   "outputs": [],
   "source": []
  }
 ],
 "metadata": {
  "kernelspec": {
   "display_name": "Python 3",
   "language": "python",
   "name": "python3"
  },
  "language_info": {
   "codemirror_mode": {
    "name": "ipython",
    "version": 3
   },
   "file_extension": ".py",
   "mimetype": "text/x-python",
   "name": "python",
   "nbconvert_exporter": "python",
   "pygments_lexer": "ipython3",
   "version": "3.5.2"
  }
 },
 "nbformat": 4,
 "nbformat_minor": 2
}
